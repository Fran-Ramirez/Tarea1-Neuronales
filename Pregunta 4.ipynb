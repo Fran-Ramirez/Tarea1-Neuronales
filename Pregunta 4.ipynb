{
 "cells": [
  {
   "cell_type": "code",
   "execution_count": null,
   "metadata": {},
   "outputs": [],
   "source": [
    "import seaborn as sn\n",
    "from keras.models import Sequential\n",
    "from keras.layers import Dense,SimpleRNN, Conv1D, Flatten\n",
    "from sklearn.metrics import mean_squared_error"
   ]
  },
  {
   "cell_type": "markdown",
   "metadata": {},
   "source": [
    "## 4. CNN *vs* RNN Prediciendo el Ozono Atmosférico"
   ]
  },
  {
   "cell_type": "markdown",
   "metadata": {},
   "source": [
    "**a)**"
   ]
  },
  {
   "cell_type": "code",
   "execution_count": null,
   "metadata": {},
   "outputs": [],
   "source": [
    "data = pd.read_csv('./ozone_data.csv') \n",
    "data_train, data_val, data_test = np.split(data.sample(frac=1), [int(.6*len(data)), int(.8*len(data))])"
   ]
  },
  {
   "cell_type": "code",
   "execution_count": null,
   "metadata": {},
   "outputs": [],
   "source": [
    "X_train = data_train.values[:,1:]\n",
    "X_test = data_test.values[:,1:]\n",
    "X_val = data_val.values[:,1:]\n",
    "\n",
    "scaler = StandardScaler()\n",
    "scaler.fit(X_train)\n",
    "X_train_scaled = scaler.transform(X_train)\n",
    "scaler.fit(X_val)\n",
    "X_val_scaled = scaler.transform(X_val)\n",
    "scaler.fit(X_test)\n",
    "X_test_scaled = scaler.transform(X_test)"
   ]
  },
  {
   "cell_type": "code",
   "execution_count": null,
   "metadata": {},
   "outputs": [],
   "source": [
    "plt.subplots(figsize = (12,12))\n",
    "sn.heatmap(data.corr())"
   ]
  },
  {
   "cell_type": "markdown",
   "metadata": {},
   "source": [
    "**b)**"
   ]
  },
  {
   "cell_type": "code",
   "execution_count": null,
   "metadata": {},
   "outputs": [],
   "source": [
    "def create_dataset(dataset,lag=1):\n",
    "    dataX = []\n",
    "    dataY = []\n",
    "    dataset = dataset.flatten()\n",
    "    for i in range(lag+1, len(dataset)):\n",
    "        dataX.append(dataset[i-(lag+1):i-1])\n",
    "        dataY.append(dataset[i])\n",
    "    return np.array(dataX),np.array(dataY)"
   ]
  },
  {
   "cell_type": "code",
   "execution_count": null,
   "metadata": {},
   "outputs": [],
   "source": [
    "lag = 3\n",
    "trainX, trainY = create_dataset(X_train_scaled, lag)\n",
    "testX, testY = create_dataset(X_test_scaled, lag)\n",
    "valX, valY = create_dataset(X_val_scaled, lag)"
   ]
  },
  {
   "cell_type": "markdown",
   "metadata": {},
   "source": [
    "**c)**"
   ]
  },
  {
   "cell_type": "code",
   "execution_count": null,
   "metadata": {},
   "outputs": [],
   "source": [
    "trainX = np.reshape(trainX, (trainX.shape[0], 1, trainX.shape[1]))\n",
    "testX = np.reshape(testX, (testX.shape[0], 1, testX.shape[1]))\n",
    "#valX = np.reshape(valX, (valX.shape[0], 1, valX.shape[1]))"
   ]
  },
  {
   "cell_type": "code",
   "execution_count": null,
   "metadata": {},
   "outputs": [],
   "source": [
    "model_rnn = Sequential()\n",
    "model_rnn.add(SimpleRNN(units=4, input_shape=(1,lag), activation='tanh',return_sequences=False,go_backwards=False))\n",
    "model_rnn.add(Dense(1,activation='linear'))\n",
    "model_rnn.compile(loss='mean_squared_error', optimizer='adam', metrics=['accuracy'])\n",
    "model_rnn.summary()\n",
    "rnn_weights = model_rnn.get_weights()\n",
    "model_rnn.fit(trainX, trainY, epochs=25, batch_size=1, verbose=1)"
   ]
  },
  {
   "cell_type": "code",
   "execution_count": null,
   "metadata": {},
   "outputs": [],
   "source": [
    "model_cnn = Sequential()\n",
    "model_cnn.add(Conv1D(4, 1,input_shape=(1,lag), activation='relu',padding='valid')) \n",
    "model_cnn.add(Flatten())\n",
    "model_cnn.add(Dense(1,activation='linear'))\n",
    "model_cnn.compile(loss='mean_squared_error', optimizer='adam')\n",
    "model_cnn.summary()\n",
    "cnn_weights = model_cnn.get_weights()\n",
    "model_cnn.fit(trainX, trainY, epochs=25, batch_size=1, verbose=1)"
   ]
  },
  {
   "cell_type": "markdown",
   "metadata": {},
   "source": [
    "**d)**"
   ]
  },
  {
   "cell_type": "code",
   "execution_count": null,
   "metadata": {},
   "outputs": [],
   "source": [
    "## RNN\n",
    "trainP_RNN = model_rnn.predict(trainX,batch_size=1)\n",
    "trainPredict_RNN = scaler.inverse_transform(trainP_RNN)\n",
    "trainYre_RNN = trainY.reshape(-1,1)\n",
    "trainYre_RNN = scaler.inverse_transform([trainYre_RNN])\n",
    "\n",
    "testP_RNN = model_rnn.predict(testX,batch_size=1)\n",
    "testPredict_RNN = scaler.inverse_transform(testP_RNN)\n",
    "testYre_RNN = testY.reshape(-1,1)\n",
    "testYre_RNN = scaler.inverse_transform([testYre_RNN])\n",
    "\n",
    "# calculate root mean squared error\n",
    "trainScore = np.sqrt(mean_squared_error(trainYre_RNN, trainPredict_RNN))\n",
    "print('Train Score: %.2f RMSE' % (trainScore))\n",
    "testScore = np.sqrt(mean_squared_error(testYre_RNN, testPredict_RNN))\n",
    "print('Test Score: %.2f RMSE' % (testScore))"
   ]
  },
  {
   "cell_type": "code",
   "execution_count": null,
   "metadata": {},
   "outputs": [],
   "source": [
    "# CNN\n",
    "trainP_CNN = model_cnn.predict(trainX,batch_size=1)\n",
    "trainPredict_CNN = scaler.inverse_transform(trainP_CNN)\n",
    "trainYre_CNN = trainY.reshape(-1,1)\n",
    "trainYre_CNN = scaler.inverse_transform([trainYre_CNN])\n",
    "\n",
    "testP_CNN = model_cnn.predict(testX,batch_size=1)\n",
    "testPredict_CNN = scaler.inverse_transform(testP_CNN)\n",
    "testYre_CNN = testY.reshape(-1,1)\n",
    "testYre_CNN = scaler.inverse_transform([testYre_CNN])\n",
    "\n",
    "# calculate root mean squared error\n",
    "trainScore = np.sqrt(mean_squared_error(trainYre_CNN, trainPredict_CNN))\n",
    "print('Train Score: %.2f RMSE' % (trainScore))\n",
    "testScore = np.sqrt(mean_squared_error(testYre_CNN, testPredict_CNN))\n",
    "print('Test Score: %.2f RMSE' % (testScore))"
   ]
  },
  {
   "cell_type": "markdown",
   "metadata": {},
   "source": [
    "**e)**"
   ]
  },
  {
   "cell_type": "markdown",
   "metadata": {},
   "source": [
    "**f)**"
   ]
  },
  {
   "cell_type": "markdown",
   "metadata": {},
   "source": [
    "**g)**"
   ]
  },
  {
   "cell_type": "markdown",
   "metadata": {},
   "source": [
    "**h)**"
   ]
  },
  {
   "cell_type": "markdown",
   "metadata": {},
   "source": [
    "**k)**"
   ]
  },
  {
   "cell_type": "markdown",
   "metadata": {},
   "source": [
    "**i)**"
   ]
  },
  {
   "cell_type": "code",
   "execution_count": null,
   "metadata": {},
   "outputs": [],
   "source": []
  }
 ],
 "metadata": {
  "kernelspec": {
   "display_name": "Python 3",
   "language": "python",
   "name": "python3"
  },
  "language_info": {
   "codemirror_mode": {
    "name": "ipython",
    "version": 3
   },
   "file_extension": ".py",
   "mimetype": "text/x-python",
   "name": "python",
   "nbconvert_exporter": "python",
   "pygments_lexer": "ipython3",
   "version": "3.6.7"
  }
 },
 "nbformat": 4,
 "nbformat_minor": 2
}
