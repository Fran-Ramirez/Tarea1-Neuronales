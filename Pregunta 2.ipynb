{
 "cells": [
  {
   "cell_type": "code",
   "execution_count": 1,
   "metadata": {},
   "outputs": [
    {
     "name": "stderr",
     "output_type": "stream",
     "text": [
      "Using TensorFlow backend.\n"
     ]
    }
   ],
   "source": [
    "import pandas  as pd\n",
    "import numpy as np\n",
    "from sklearn.preprocessing import StandardScaler\n",
    "from keras.models import Sequential\n",
    "from keras.layers import Dense, Activation\n",
    "from keras.optimizers import SGD\n",
    "import keras\n",
    "from keras import backend as K\n",
    "import tensorflow as tf\n",
    "import warnings\n",
    "import matplotlib.pyplot as plt\n",
    "warnings.filterwarnings('ignore')"
   ]
  },
  {
   "cell_type": "markdown",
   "metadata": {},
   "source": [
    "## 2. Deep Networks\n",
    "\n",
    "Se cargan los datos y se generan las matrices a trabajar."
   ]
  },
  {
   "cell_type": "code",
   "execution_count": 2,
   "metadata": {},
   "outputs": [],
   "source": [
    "df_sets = pd.read_csv(\"./koi_sets_unb.csv\")\n",
    "mask_train = (df_sets[\"Set\"] == \"Train\").values\n",
    "mask_test = (df_sets[\"Set\"] == \"Test\").values\n",
    "mask_clean = (df_sets[\"Set\"] != \"Unlabeled\").values\n",
    "df_labels = pd.read_csv(\"./koi_labels.csv\")\n",
    "df_X = pd.read_csv(\"./koi_light_curves_X.csv\")\n",
    "df_labels_train = df_labels[mask_train]\n",
    "df_labels_test = df_labels[mask_test]\n",
    "df_X_train = df_X[mask_train]\n",
    "df_X_test = df_X[mask_test]\n",
    "df_X_clean = df_X[mask_clean]\n",
    "\n",
    "y_train = ((df_labels_train[\"NExScI Disposition\"]==\"CONFIRMED\")*1).values\n",
    "y_test = ((df_labels_test[\"NExScI Disposition\"]==\"CONFIRMED\")*1).values\n",
    "df_X_train = df_X_train.reset_index(drop=True)\n",
    "df_X_test = df_X_test.reset_index(drop=True)\n",
    "df_X_train.fillna(df_X_train.median(), inplace=True)\n",
    "df_X_test.fillna(df_X_test.median(), inplace=True)\n",
    "X_train = df_X_train.values[:,1:]\n",
    "X_test = df_X_test.values[:,1:]\n",
    "\n",
    "\n",
    "scaler = StandardScaler()\n",
    "scaler.fit(X_train)\n",
    "X_train_scaled = scaler.transform(X_train)\n",
    "scaler.fit(X_test)\n",
    "X_test_scaled = scaler.transform(X_test)"
   ]
  },
  {
   "cell_type": "markdown",
   "metadata": {},
   "source": [
    "* a)* En esta primera instancia se trabajará con una red shallow (poco profunda) con una gran cantidad de neuronas situadas en una capa, inicializada con pesos uniforme. Visualice el gradiente de la función de pérdida (loss) para el conjunto de entrenamiento (promedio del gradiente de cada dato) respecto a los pesos en las distintas capas, para esto se le pedirá el cálculo del gradiente para una capa mediante la función de gradients (link) en el backend de Keras, otra opción es a través de un monitor. Deberá generar un histograma para todos los pesos de cada capa antes y despues del entrenamiento con 50 epochs. Comente."
   ]
  },
  {
   "cell_type": "code",
   "execution_count": 3,
   "metadata": {},
   "outputs": [
    {
     "name": "stdout",
     "output_type": "stream",
     "text": [
      "WARNING:tensorflow:From /home/fran/Documentos/Neuronales/neuroenv/lib/python3.6/site-packages/tensorflow/python/framework/op_def_library.py:263: colocate_with (from tensorflow.python.framework.ops) is deprecated and will be removed in a future version.\n",
      "Instructions for updating:\n",
      "Colocations handled automatically by placer.\n",
      "WARNING:tensorflow:From /home/fran/Documentos/Neuronales/neuroenv/lib/python3.6/site-packages/tensorflow/python/ops/math_ops.py:3066: to_int32 (from tensorflow.python.ops.math_ops) is deprecated and will be removed in a future version.\n",
      "Instructions for updating:\n",
      "Use tf.cast instead.\n",
      "Train on 3753 samples, validate on 939 samples\n",
      "Epoch 1/50\n",
      "3753/3753 [==============================] - 1s 352us/step - loss: 0.6462 - acc: 0.6344 - val_loss: 0.6533 - val_acc: 0.7593\n",
      "Epoch 2/50\n",
      "3753/3753 [==============================] - 0s 110us/step - loss: 0.6038 - acc: 0.6669 - val_loss: 0.6368 - val_acc: 0.5474\n",
      "Epoch 3/50\n",
      "3753/3753 [==============================] - 0s 75us/step - loss: 0.5659 - acc: 0.6853 - val_loss: 0.6900 - val_acc: 0.4899\n",
      "Epoch 4/50\n",
      "3753/3753 [==============================] - 0s 86us/step - loss: 0.5409 - acc: 0.7152 - val_loss: 0.5483 - val_acc: 0.8296\n",
      "Epoch 5/50\n",
      "3753/3753 [==============================] - 0s 91us/step - loss: 0.5074 - acc: 0.7565 - val_loss: 0.5407 - val_acc: 0.6794\n",
      "Epoch 6/50\n",
      "3753/3753 [==============================] - 0s 100us/step - loss: 0.4837 - acc: 0.7839 - val_loss: 0.4996 - val_acc: 0.7998\n",
      "Epoch 7/50\n",
      "3753/3753 [==============================] - 0s 92us/step - loss: 0.4624 - acc: 0.8015 - val_loss: 0.5482 - val_acc: 0.6251\n",
      "Epoch 8/50\n",
      "3753/3753 [==============================] - 0s 78us/step - loss: 0.4435 - acc: 0.8042 - val_loss: 0.4553 - val_acc: 0.8435\n",
      "Epoch 9/50\n",
      "3753/3753 [==============================] - 0s 68us/step - loss: 0.4243 - acc: 0.8236 - val_loss: 0.4441 - val_acc: 0.8168\n",
      "Epoch 10/50\n",
      "3753/3753 [==============================] - 0s 70us/step - loss: 0.4082 - acc: 0.8273 - val_loss: 0.4901 - val_acc: 0.7018\n",
      "Epoch 11/50\n",
      "3753/3753 [==============================] - 0s 90us/step - loss: 0.3958 - acc: 0.8297 - val_loss: 0.4138 - val_acc: 0.8424\n",
      "Epoch 12/50\n",
      "3753/3753 [==============================] - 0s 72us/step - loss: 0.3838 - acc: 0.8401 - val_loss: 0.4077 - val_acc: 0.8275\n",
      "Epoch 13/50\n",
      "3753/3753 [==============================] - 0s 77us/step - loss: 0.3754 - acc: 0.8433 - val_loss: 0.4012 - val_acc: 0.8222\n",
      "Epoch 14/50\n",
      "3753/3753 [==============================] - 0s 73us/step - loss: 0.3655 - acc: 0.8436 - val_loss: 0.3810 - val_acc: 0.8584\n",
      "Epoch 15/50\n",
      "3753/3753 [==============================] - 0s 79us/step - loss: 0.3570 - acc: 0.8484 - val_loss: 0.3842 - val_acc: 0.8296\n",
      "Epoch 16/50\n",
      "3753/3753 [==============================] - 0s 101us/step - loss: 0.3496 - acc: 0.8524 - val_loss: 0.4606 - val_acc: 0.7327\n",
      "Epoch 17/50\n",
      "3753/3753 [==============================] - 0s 97us/step - loss: 0.3428 - acc: 0.8572 - val_loss: 0.3901 - val_acc: 0.8062\n",
      "Epoch 18/50\n",
      "3753/3753 [==============================] - 0s 131us/step - loss: 0.3381 - acc: 0.8566 - val_loss: 0.3666 - val_acc: 0.8349\n",
      "Epoch 19/50\n",
      "3753/3753 [==============================] - 0s 111us/step - loss: 0.3334 - acc: 0.8556 - val_loss: 0.3460 - val_acc: 0.8743\n",
      "Epoch 20/50\n",
      "3753/3753 [==============================] - 0s 79us/step - loss: 0.3275 - acc: 0.8622 - val_loss: 0.3460 - val_acc: 0.8647\n",
      "Epoch 21/50\n",
      "3753/3753 [==============================] - 0s 97us/step - loss: 0.3248 - acc: 0.8649 - val_loss: 0.4361 - val_acc: 0.7604\n",
      "Epoch 22/50\n",
      "3753/3753 [==============================] - 0s 100us/step - loss: 0.3211 - acc: 0.8588 - val_loss: 0.3810 - val_acc: 0.8019\n",
      "Epoch 23/50\n",
      "3753/3753 [==============================] - 0s 118us/step - loss: 0.3169 - acc: 0.8617 - val_loss: 0.3557 - val_acc: 0.8296\n",
      "Epoch 24/50\n",
      "3753/3753 [==============================] - 0s 98us/step - loss: 0.3135 - acc: 0.8609 - val_loss: 0.3243 - val_acc: 0.8860\n",
      "Epoch 25/50\n",
      "3753/3753 [==============================] - 0s 73us/step - loss: 0.3113 - acc: 0.8633 - val_loss: 0.3466 - val_acc: 0.8328\n",
      "Epoch 26/50\n",
      "3753/3753 [==============================] - 0s 103us/step - loss: 0.3089 - acc: 0.8652 - val_loss: 0.3460 - val_acc: 0.8296\n",
      "Epoch 27/50\n",
      "3753/3753 [==============================] - 0s 87us/step - loss: 0.3072 - acc: 0.8646 - val_loss: 0.3306 - val_acc: 0.8605\n",
      "Epoch 28/50\n",
      "3753/3753 [==============================] - 0s 109us/step - loss: 0.3041 - acc: 0.8652 - val_loss: 0.3211 - val_acc: 0.8701\n",
      "Epoch 29/50\n",
      "3753/3753 [==============================] - 0s 82us/step - loss: 0.3027 - acc: 0.8673 - val_loss: 0.3240 - val_acc: 0.8637\n",
      "Epoch 30/50\n",
      "3753/3753 [==============================] - 0s 73us/step - loss: 0.3023 - acc: 0.8708 - val_loss: 0.3129 - val_acc: 0.8786\n",
      "Epoch 31/50\n",
      "3753/3753 [==============================] - 0s 80us/step - loss: 0.2997 - acc: 0.8689 - val_loss: 0.3142 - val_acc: 0.8733\n",
      "Epoch 32/50\n",
      "3753/3753 [==============================] - 0s 95us/step - loss: 0.2966 - acc: 0.8718 - val_loss: 0.3061 - val_acc: 0.8860\n",
      "Epoch 33/50\n",
      "3753/3753 [==============================] - 0s 72us/step - loss: 0.2964 - acc: 0.8710 - val_loss: 0.3845 - val_acc: 0.7796\n",
      "Epoch 34/50\n",
      "3753/3753 [==============================] - 0s 90us/step - loss: 0.2952 - acc: 0.8697 - val_loss: 0.3050 - val_acc: 0.8743\n",
      "Epoch 35/50\n",
      "3753/3753 [==============================] - 0s 72us/step - loss: 0.2934 - acc: 0.8748 - val_loss: 0.3199 - val_acc: 0.8541\n",
      "Epoch 36/50\n",
      "3753/3753 [==============================] - 0s 84us/step - loss: 0.2928 - acc: 0.8721 - val_loss: 0.3007 - val_acc: 0.8850\n",
      "Epoch 37/50\n",
      "3753/3753 [==============================] - 0s 78us/step - loss: 0.2910 - acc: 0.8724 - val_loss: 0.3445 - val_acc: 0.8200\n",
      "Epoch 38/50\n",
      "3753/3753 [==============================] - 0s 66us/step - loss: 0.2902 - acc: 0.8713 - val_loss: 0.3066 - val_acc: 0.8679\n",
      "Epoch 39/50\n",
      "3753/3753 [==============================] - 0s 68us/step - loss: 0.2889 - acc: 0.8748 - val_loss: 0.3207 - val_acc: 0.8509\n",
      "Epoch 40/50\n",
      "3753/3753 [==============================] - 0s 66us/step - loss: 0.2885 - acc: 0.8764 - val_loss: 0.2997 - val_acc: 0.8818\n",
      "Epoch 41/50\n",
      "3753/3753 [==============================] - 0s 67us/step - loss: 0.2870 - acc: 0.8750 - val_loss: 0.3286 - val_acc: 0.8403\n",
      "Epoch 42/50\n",
      "3753/3753 [==============================] - 0s 74us/step - loss: 0.2873 - acc: 0.8716 - val_loss: 0.3149 - val_acc: 0.8584\n",
      "Epoch 43/50\n",
      "3753/3753 [==============================] - 0s 77us/step - loss: 0.2859 - acc: 0.8766 - val_loss: 0.2930 - val_acc: 0.8797\n",
      "Epoch 44/50\n",
      "3753/3753 [==============================] - 0s 86us/step - loss: 0.2866 - acc: 0.8785 - val_loss: 0.2899 - val_acc: 0.8882\n",
      "Epoch 45/50\n",
      "3753/3753 [==============================] - 0s 71us/step - loss: 0.2841 - acc: 0.8777 - val_loss: 0.3234 - val_acc: 0.8435\n",
      "Epoch 46/50\n",
      "3753/3753 [==============================] - 0s 70us/step - loss: 0.2822 - acc: 0.8772 - val_loss: 0.3144 - val_acc: 0.8594\n",
      "Epoch 47/50\n",
      "3753/3753 [==============================] - 0s 70us/step - loss: 0.2829 - acc: 0.8758 - val_loss: 0.2879 - val_acc: 0.8860\n",
      "Epoch 48/50\n",
      "3753/3753 [==============================] - 0s 70us/step - loss: 0.2820 - acc: 0.8756 - val_loss: 0.3172 - val_acc: 0.8509\n",
      "Epoch 49/50\n",
      "3753/3753 [==============================] - 0s 86us/step - loss: 0.2821 - acc: 0.8758 - val_loss: 0.3182 - val_acc: 0.8498\n",
      "Epoch 50/50\n",
      "3753/3753 [==============================] - 0s 76us/step - loss: 0.2800 - acc: 0.8764 - val_loss: 0.3231 - val_acc: 0.8381\n"
     ]
    }
   ],
   "source": [
    "#modelo\n",
    "model = Sequential()\n",
    "model.add(Dense(1280, input_dim=X_train_scaled.shape[1], kernel_initializer='uniform',activation='sigmoid'))\n",
    "model.add(Dense(1, kernel_initializer='uniform',activation='sigmoid'))\n",
    "model.compile(optimizer=SGD(lr=0.01),loss='binary_crossentropy', metrics=['accuracy']) #compilar\n",
    "\n",
    "###calculate gradients\n",
    "loss = keras.losses.mean_squared_error(model.output,y_train)\n",
    "listOfVariableTensors = model.trainable_weights \n",
    "gradients = K.gradients(loss, listOfVariableTensors) #We can now calculate the gradients.\n",
    "sess = K.get_session()\n",
    "evaluated_gradients = sess.run(gradients,feed_dict={model.input:X_train_scaled})\n",
    "evaluated_gradients = [gradient/len(y_train) for gradient in evaluated_gradients]\n",
    "\n",
    "#entrenamiento\n",
    "hist = model.fit(X_train_scaled, y_train, epochs=50, verbose=1, validation_split=0.2)\n",
    "\n",
    "#gradiente salida\n",
    "final_loss = keras.losses.mean_squared_error(model.output,y_train)\n",
    "final_listOfVariableTensors = model.trainable_weights\n",
    "final_gradients = K.gradients(final_loss, final_listOfVariableTensors)\n",
    "sess = K.get_session()\n",
    "final_evaluated_gradients = sess.run(final_gradients,feed_dict={model.input:X_train_scaled})\n",
    "final_evaluated_gradients = [gradient/len(y_train) for gradient in final_evaluated_gradients]"
   ]
  },
  {
   "cell_type": "code",
   "execution_count": 4,
   "metadata": {},
   "outputs": [
    {
     "name": "stdout",
     "output_type": "stream",
     "text": [
      "Gradientes previo al entrenamiento:\n"
     ]
    },
    {
     "data": {
      "image/png": "[encoded data removed]",
      "text/plain": [
       "<Figure size 432x288 with 1 Axes>"
      ]
     },
     "metadata": {
      "needs_background": "light"
     },
     "output_type": "display_data"
    },
    {
     "name": "stdout",
     "output_type": "stream",
     "text": [
      "Gradientes posterior al entrenamiento:\n"
     ]
    },
    {
     "data": {
      "image/png": "[encoded data removed]",
      "text/plain": [
       "<Figure size 432x288 with 1 Axes>"
      ]
     },
     "metadata": {
      "needs_background": "light"
     },
     "output_type": "display_data"
    },
    {
     "name": "stdout",
     "output_type": "stream",
     "text": [
      "Comparacion de gradientes:\n"
     ]
    },
    {
     "data": {
      "image/png": "[encoded data removed]",
      "text/plain": [
       "<Figure size 432x288 with 1 Axes>"
      ]
     },
     "metadata": {
      "needs_background": "light"
     },
     "output_type": "display_data"
    }
   ],
   "source": [
    "print(\"Gradientes previo al entrenamiento:\")\n",
    "plt.hist(evaluated_gradients[1])\n",
    "plt.show()\n",
    "print(\"Gradientes posterior al entrenamiento:\")\n",
    "plt.hist(final_evaluated_gradients[1])\n",
    "plt.show()\n",
    "print(\"Comparacion de gradientes:\")\n",
    "plt.hist(evaluated_gradients[1])\n",
    "plt.hist(final_evaluated_gradients[1])\n",
    "plt.show()"
   ]
  },
  {
   "cell_type": "code",
   "execution_count": 5,
   "metadata": {
    "scrolled": true
   },
   "outputs": [
    {
     "data": {
      "image/png": "[encoded data removed]",
      "text/plain": [
       "<Figure size 432x288 with 1 Axes>"
      ]
     },
     "metadata": {
      "needs_background": "light"
     },
     "output_type": "display_data"
    }
   ],
   "source": [
    "listaloss = []\n",
    "listaval = []\n",
    "for i in range(50):\n",
    "    listaloss.append(hist.history['loss'][i])\n",
    "    listaval.append(hist.history['val_loss'][i])\n",
    "\n",
    "plt.plot(range(51)[1:],listaloss,label='loss', linewidth=2)\n",
    "plt.plot(range(51)[1:],listaval,label='val_loss', linewidth=2)\n",
    "\n",
    "plt.legend(['loss', 'val_loss'])\n",
    "plt.ylabel('MSE')\n",
    "plt.xlabel('epochs')\n",
    "plt.grid(1)\n",
    "plt.show()"
   ]
  },
  {
   "cell_type": "markdown",
   "metadata": {},
   "source": [
    "En cada iteración la red neuronal actualiza cada peso en proporción a la grdiente de la función objetivo, pero cuando la gradiente es demasiado pequeña y deja de generar cambio en los pesos estos se estancan generando un problema. En los peores casos, dado el problema recien mencionado la red puede dejar de \"aprender\". En los histogramas se puede ver que las gradientes posterior al entrenamiento solo disminuyen en un orden de magnitud, esto debido justamente al problema de las gradientes descendientes explicado anteriormente."
   ]
  },
  {
   "cell_type": "markdown",
   "metadata": {},
   "source": [
    "**b)**"
   ]
  },
  {
   "cell_type": "code",
   "execution_count": 6,
   "metadata": {},
   "outputs": [
    {
     "name": "stdout",
     "output_type": "stream",
     "text": [
      "Train on 3753 samples, validate on 939 samples\n",
      "Epoch 1/50\n",
      "3753/3753 [==============================] - 2s 462us/step - loss: 0.6558 - acc: 0.6400 - val_loss: 0.7034 - val_acc: 0.5474\n",
      "Epoch 2/50\n",
      "3753/3753 [==============================] - 1s 156us/step - loss: 0.6552 - acc: 0.6400 - val_loss: 0.6932 - val_acc: 0.5474\n",
      "Epoch 3/50\n",
      "3753/3753 [==============================] - 1s 158us/step - loss: 0.6552 - acc: 0.6400 - val_loss: 0.7101 - val_acc: 0.5474\n",
      "Epoch 4/50\n",
      "3753/3753 [==============================] - 1s 166us/step - loss: 0.6541 - acc: 0.6400 - val_loss: 0.6983 - val_acc: 0.5474\n",
      "Epoch 5/50\n",
      "3753/3753 [==============================] - 1s 157us/step - loss: 0.6545 - acc: 0.6400 - val_loss: 0.7013 - val_acc: 0.5474\n",
      "Epoch 6/50\n",
      "3753/3753 [==============================] - 1s 154us/step - loss: 0.6545 - acc: 0.6400 - val_loss: 0.7004 - val_acc: 0.5474\n",
      "Epoch 7/50\n",
      "3753/3753 [==============================] - 1s 170us/step - loss: 0.6548 - acc: 0.6400 - val_loss: 0.7179 - val_acc: 0.5474\n",
      "Epoch 8/50\n",
      "3753/3753 [==============================] - 1s 153us/step - loss: 0.6549 - acc: 0.6400 - val_loss: 0.7069 - val_acc: 0.5474\n",
      "Epoch 9/50\n",
      "3753/3753 [==============================] - 1s 160us/step - loss: 0.6547 - acc: 0.6400 - val_loss: 0.6999 - val_acc: 0.5474\n",
      "Epoch 10/50\n",
      "3753/3753 [==============================] - 1s 159us/step - loss: 0.6533 - acc: 0.6400 - val_loss: 0.7213 - val_acc: 0.5474\n",
      "Epoch 11/50\n",
      "3753/3753 [==============================] - 1s 159us/step - loss: 0.6550 - acc: 0.6400 - val_loss: 0.6991 - val_acc: 0.5474\n",
      "Epoch 12/50\n",
      "3753/3753 [==============================] - 1s 161us/step - loss: 0.6551 - acc: 0.6400 - val_loss: 0.7119 - val_acc: 0.5474\n",
      "Epoch 13/50\n",
      "3753/3753 [==============================] - 1s 174us/step - loss: 0.6541 - acc: 0.6400 - val_loss: 0.7144 - val_acc: 0.5474\n",
      "Epoch 14/50\n",
      "3753/3753 [==============================] - 1s 201us/step - loss: 0.6544 - acc: 0.6400 - val_loss: 0.6977 - val_acc: 0.5474\n",
      "Epoch 15/50\n",
      "3753/3753 [==============================] - 1s 186us/step - loss: 0.6551 - acc: 0.6400 - val_loss: 0.7104 - val_acc: 0.5474\n",
      "Epoch 16/50\n",
      "3753/3753 [==============================] - 1s 160us/step - loss: 0.6553 - acc: 0.6400 - val_loss: 0.7049 - val_acc: 0.5474\n",
      "Epoch 17/50\n",
      "3753/3753 [==============================] - 1s 167us/step - loss: 0.6546 - acc: 0.6400 - val_loss: 0.7041 - val_acc: 0.5474\n",
      "Epoch 18/50\n",
      "3753/3753 [==============================] - 1s 173us/step - loss: 0.6554 - acc: 0.6400 - val_loss: 0.7146 - val_acc: 0.5474\n",
      "Epoch 19/50\n",
      "3753/3753 [==============================] - 1s 172us/step - loss: 0.6554 - acc: 0.6400 - val_loss: 0.7052 - val_acc: 0.5474\n",
      "Epoch 20/50\n",
      "3753/3753 [==============================] - 1s 170us/step - loss: 0.6549 - acc: 0.6400 - val_loss: 0.7056 - val_acc: 0.5474\n",
      "Epoch 21/50\n",
      "3753/3753 [==============================] - 1s 203us/step - loss: 0.6550 - acc: 0.6400 - val_loss: 0.7033 - val_acc: 0.5474\n",
      "Epoch 22/50\n",
      "3753/3753 [==============================] - 1s 194us/step - loss: 0.6541 - acc: 0.6400 - val_loss: 0.6954 - val_acc: 0.5474\n",
      "Epoch 23/50\n",
      "3753/3753 [==============================] - 1s 146us/step - loss: 0.6553 - acc: 0.6400 - val_loss: 0.7115 - val_acc: 0.5474\n",
      "Epoch 24/50\n",
      "3753/3753 [==============================] - 1s 175us/step - loss: 0.6542 - acc: 0.6400 - val_loss: 0.6912 - val_acc: 0.5474\n",
      "Epoch 25/50\n",
      "3753/3753 [==============================] - 1s 150us/step - loss: 0.6545 - acc: 0.6400 - val_loss: 0.7026 - val_acc: 0.5474\n",
      "Epoch 26/50\n",
      "3753/3753 [==============================] - 1s 151us/step - loss: 0.6548 - acc: 0.6400 - val_loss: 0.7046 - val_acc: 0.5474\n",
      "Epoch 27/50\n",
      "3753/3753 [==============================] - 0s 131us/step - loss: 0.6556 - acc: 0.6400 - val_loss: 0.6995 - val_acc: 0.5474\n",
      "Epoch 28/50\n",
      "3753/3753 [==============================] - 1s 136us/step - loss: 0.6556 - acc: 0.6400 - val_loss: 0.6968 - val_acc: 0.5474\n",
      "Epoch 29/50\n",
      "3753/3753 [==============================] - 0s 131us/step - loss: 0.6544 - acc: 0.6400 - val_loss: 0.7234 - val_acc: 0.5474\n",
      "Epoch 30/50\n",
      "3753/3753 [==============================] - 1s 134us/step - loss: 0.6554 - acc: 0.6400 - val_loss: 0.7130 - val_acc: 0.5474\n",
      "Epoch 31/50\n",
      "3753/3753 [==============================] - 0s 130us/step - loss: 0.6550 - acc: 0.6400 - val_loss: 0.7159 - val_acc: 0.5474\n",
      "Epoch 32/50\n",
      "3753/3753 [==============================] - 0s 129us/step - loss: 0.6547 - acc: 0.6400 - val_loss: 0.6945 - val_acc: 0.5474\n",
      "Epoch 33/50\n",
      "3753/3753 [==============================] - 0s 130us/step - loss: 0.6552 - acc: 0.6400 - val_loss: 0.6947 - val_acc: 0.5474\n",
      "Epoch 34/50\n",
      "3753/3753 [==============================] - 0s 129us/step - loss: 0.6552 - acc: 0.6400 - val_loss: 0.7135 - val_acc: 0.5474\n",
      "Epoch 35/50\n",
      "3753/3753 [==============================] - 0s 129us/step - loss: 0.6543 - acc: 0.6400 - val_loss: 0.7118 - val_acc: 0.5474\n",
      "Epoch 36/50\n",
      "3753/3753 [==============================] - 0s 131us/step - loss: 0.6540 - acc: 0.6400 - val_loss: 0.6936 - val_acc: 0.5474\n",
      "Epoch 37/50\n",
      "3753/3753 [==============================] - 0s 128us/step - loss: 0.6550 - acc: 0.6400 - val_loss: 0.6966 - val_acc: 0.5474\n",
      "Epoch 38/50\n",
      "3753/3753 [==============================] - 0s 129us/step - loss: 0.6552 - acc: 0.6400 - val_loss: 0.7044 - val_acc: 0.5474\n",
      "Epoch 39/50\n",
      "3753/3753 [==============================] - 1s 136us/step - loss: 0.6546 - acc: 0.6400 - val_loss: 0.7220 - val_acc: 0.5474\n",
      "Epoch 40/50\n",
      "3753/3753 [==============================] - 1s 170us/step - loss: 0.6549 - acc: 0.6400 - val_loss: 0.7148 - val_acc: 0.5474\n",
      "Epoch 41/50\n",
      "3753/3753 [==============================] - 1s 144us/step - loss: 0.6552 - acc: 0.6400 - val_loss: 0.6989 - val_acc: 0.5474\n",
      "Epoch 42/50\n",
      "3753/3753 [==============================] - 1s 149us/step - loss: 0.6552 - acc: 0.6400 - val_loss: 0.7207 - val_acc: 0.5474\n",
      "Epoch 43/50\n",
      "3753/3753 [==============================] - 1s 166us/step - loss: 0.6549 - acc: 0.6400 - val_loss: 0.6967 - val_acc: 0.5474\n",
      "Epoch 44/50\n",
      "3753/3753 [==============================] - 1s 159us/step - loss: 0.6546 - acc: 0.6400 - val_loss: 0.7098 - val_acc: 0.5474\n",
      "Epoch 45/50\n",
      "3753/3753 [==============================] - 1s 216us/step - loss: 0.6538 - acc: 0.6400 - val_loss: 0.6923 - val_acc: 0.5474\n",
      "Epoch 46/50\n",
      "3753/3753 [==============================] - 1s 271us/step - loss: 0.6555 - acc: 0.6400 - val_loss: 0.7177 - val_acc: 0.5474\n",
      "Epoch 47/50\n",
      "3753/3753 [==============================] - 1s 191us/step - loss: 0.6543 - acc: 0.6400 - val_loss: 0.6937 - val_acc: 0.5474\n",
      "Epoch 48/50\n",
      "3753/3753 [==============================] - 1s 150us/step - loss: 0.6545 - acc: 0.6400 - val_loss: 0.7294 - val_acc: 0.5474\n",
      "Epoch 49/50\n",
      "3753/3753 [==============================] - 1s 152us/step - loss: 0.6549 - acc: 0.6400 - val_loss: 0.7070 - val_acc: 0.5474\n",
      "Epoch 50/50\n",
      "3753/3753 [==============================] - 1s 155us/step - loss: 0.6554 - acc: 0.6400 - val_loss: 0.7247 - val_acc: 0.5474\n"
     ]
    }
   ],
   "source": [
    "#modelo\n",
    "model = Sequential()\n",
    "model.add(Dense(256, input_dim=X_train.shape[1], kernel_initializer='uniform',activation='sigmoid'))\n",
    "model.add(Dense(256, kernel_initializer='uniform',activation='sigmoid'))\n",
    "model.add(Dense(256, kernel_initializer='uniform',activation='sigmoid'))\n",
    "model.add(Dense(256, kernel_initializer='uniform',activation='sigmoid'))\n",
    "model.add(Dense(256, kernel_initializer='uniform',activation='sigmoid'))\n",
    "model.add(Dense(1, kernel_initializer='uniform',activation='sigmoid'))\n",
    "sgd = SGD(lr=0.01)\n",
    "model.compile(optimizer=sgd,loss='binary_crossentropy',metrics=['accuracy'])\n",
    "\n",
    "#gradiente\n",
    "loss = keras.losses.mean_squared_error(model.output,y_train)\n",
    "listOfVariableTensors = model.trainable_weights\n",
    "gradients = K.gradients(loss, listOfVariableTensors) #We can now calculate the gradients.\n",
    "sess = K.get_session()\n",
    "evaluated_gradients = sess.run(gradients,feed_dict={model.input:X_train})\n",
    "evaluated_gradients = [gradient/len(y_train) for gradient in evaluated_gradients]\n",
    "\n",
    "#entrenamiento\n",
    "hist = model.fit(X_train, y_train, epochs=50, verbose=1, validation_split=0.2)\n",
    "\n",
    "#gradientes final\n",
    "final_loss = tf.keras.losses.mean_squared_error(model.output,y_train)\n",
    "final_listOfVariableTensors = model.trainable_weights\n",
    "final_gradients = K.gradients(final_loss, final_listOfVariableTensors)\n",
    "sess = K.get_session()\n",
    "final_evaluated_gradients = sess.run(final_gradients,feed_dict={model.input:X_train_scaled})\n",
    "final_evaluated_gradients = [gradient/len(y_train) for gradient in final_evaluated_gradients]"
   ]
  },
  {
   "cell_type": "code",
   "execution_count": null,
   "metadata": {},
   "outputs": [],
   "source": [
    "listaloss = []\n",
    "listaval = []\n",
    "for i in range(50):\n",
    "    listaloss.append(hist.history['loss'][i])\n",
    "    listaval.append(hist.history['val_loss'][i])\n",
    "\n",
    "plt.plot(range(51)[1:],listaloss,label='loss', linewidth=2)\n",
    "plt.plot(range(51)[1:],listaval,label='val_loss', linewidth=2)\n",
    "\n",
    "plt.legend(['loss', 'val_loss'])\n",
    "plt.ylabel('MSE')\n",
    "plt.xlabel('epochs')\n",
    "plt.grid(1)\n",
    "plt.show()"
   ]
  },
  {
   "cell_type": "code",
   "execution_count": null,
   "metadata": {},
   "outputs": [],
   "source": [
    "plt.figure(1, figsize=(12,10))\n",
    "plt.suptitle(\"Gradientes\", fontsize=23, y=1.07)\n",
    "\n",
    "plt.subplot(421)\n",
    "plt.title(\"Antes de entrenar(ultima capa oculta)\",fontsize=18)\n",
    "plt.hist(evaluated_gradients[9])\n",
    "\n",
    "plt.subplot(422)\n",
    "plt.title(\"Despues de entrenar(ultima capa oculta)\",fontsize=18)\n",
    "plt.hist(final_evaluated_gradients[9])\n",
    "\n",
    "plt.subplot(423)\n",
    "plt.title(\"Antes de entrenar(3ra capa oculta)\",fontsize=18)\n",
    "plt.hist(evaluated_gradients[7])\n",
    "\n",
    "plt.subplot(424)\n",
    "plt.title(\"Despues de entrenar(3ra capa oculta)\",fontsize=18)\n",
    "plt.hist(final_evaluated_gradients[7])\n",
    "\n",
    "plt.subplot(425)\n",
    "plt.title(\"Antes de entrenar(2da capa oculta)\",fontsize=18)\n",
    "plt.hist(evaluated_gradients[5])\n",
    "\n",
    "plt.subplot(426)\n",
    "plt.title(\"Despues de entrenar(2da capa oculta)\",fontsize=18)\n",
    "plt.hist(final_evaluated_gradients[5])\n",
    "\n",
    "plt.subplot(427)\n",
    "plt.title(\"Antes de entrenar(1era capa oculta)\",fontsize=18)\n",
    "plt.hist(evaluated_gradients[3])\n",
    "\n",
    "plt.subplot(428)\n",
    "plt.title(\"Despues de entrenar(1era capa oculta)\",fontsize=18)\n",
    "plt.hist(final_evaluated_gradients[3])\n",
    "\n",
    "plt.tight_layout()\n",
    "plt.show()"
   ]
  },
  {
   "cell_type": "markdown",
   "metadata": {},
   "source": [
    "**c)**"
   ]
  },
  {
   "cell_type": "code",
   "execution_count": null,
   "metadata": {},
   "outputs": [],
   "source": [
    "model = Sequential()\n",
    "model.add(Dense(256, input_dim=X_train.shape[1], kernel_initializer='glorot_uniform',activation='sigmoid'))\n",
    "model.add(Dense(256, kernel_initializer='glorot_uniform',activation='sigmoid'))\n",
    "model.add(Dense(256, kernel_initializer='glorot_uniform',activation='sigmoid'))\n",
    "model.add(Dense(256, kernel_initializer='glorot_uniform',activation='sigmoid'))\n",
    "model.add(Dense(256, kernel_initializer='glorot_uniform',activation='sigmoid'))\n",
    "model.add(Dense(1, kernel_initializer='glorot_uniform',activation='sigmoid'))\n",
    "sgd = SGD(lr=0.01)\n",
    "model.compile(optimizer=sgd,loss='binary_crossentropy', metrics=['accuracy'])\n",
    "loss = keras.losses.mean_squared_error(model.output,y_train)\n",
    "listOfVariableTensors = model.trainable_weights\n",
    "\n",
    "gradients = K.gradients(loss, listOfVariableTensors) #We can now calculate the gradients.\n",
    "sess = K.get_session()\n",
    "evaluated_gradients = sess.run(gradients,feed_dict={model.input:X_train})\n",
    "evaluated_gradients = [gradient/len(y_train) for gradient in evaluated_gradients]\n",
    "\n",
    "hist = model.fit(X_train, y_train, epochs=50, verbose=1, validation_split=0.2)"
   ]
  },
  {
   "cell_type": "code",
   "execution_count": null,
   "metadata": {},
   "outputs": [],
   "source": [
    "listaloss = []\n",
    "listaval = []\n",
    "for i in range(50):\n",
    "    listaloss.append(hist.history['loss'][i])\n",
    "    listaval.append(hist.history['val_loss'][i])\n",
    "\n",
    "plt.plot(range(51)[1:],listaloss,label='loss', linewidth=2)\n",
    "plt.plot(range(51)[1:],listaval,label='val_loss', linewidth=2)\n",
    "\n",
    "plt.legend(['loss', 'val_loss'])\n",
    "plt.ylabel('MSE')\n",
    "plt.xlabel('epochs')\n",
    "plt.grid(1)\n",
    "plt.show()"
   ]
  },
  {
   "cell_type": "code",
   "execution_count": null,
   "metadata": {},
   "outputs": [],
   "source": [
    "plt.figure(1, figsize=(12,10))\n",
    "plt.suptitle(\"Gradientes\", fontsize=23, y=1.07)\n",
    "\n",
    "plt.subplot(421)\n",
    "plt.title(\"Antes de entrenar(ultima capa oculta)\",fontsize=18)\n",
    "plt.hist(evaluated_gradients[9])\n",
    "\n",
    "plt.subplot(422)\n",
    "plt.title(\"Despues de entrenar(ultima capa oculta)\",fontsize=18)\n",
    "plt.hist(final_evaluated_gradients[9])\n",
    "\n",
    "plt.subplot(423)\n",
    "plt.title(\"Antes de entrenar(3ra capa oculta)\",fontsize=18)\n",
    "plt.hist(evaluated_gradients[7])\n",
    "\n",
    "plt.subplot(424)\n",
    "plt.title(\"Despues de entrenar(3ra capa oculta)\",fontsize=18)\n",
    "plt.hist(final_evaluated_gradients[7])\n",
    "\n",
    "plt.subplot(425)\n",
    "plt.title(\"Antes de entrenar(2da capa oculta)\",fontsize=18)\n",
    "plt.hist(evaluated_gradients[5])\n",
    "\n",
    "plt.subplot(426)\n",
    "plt.title(\"Despues de entrenar(2da capa oculta)\",fontsize=18)\n",
    "plt.hist(final_evaluated_gradients[5])\n",
    "\n",
    "plt.subplot(427)\n",
    "plt.title(\"Antes de entrenar(1era capa oculta)\",fontsize=18)\n",
    "plt.hist(evaluated_gradients[3])\n",
    "\n",
    "plt.subplot(428)\n",
    "plt.title(\"Despues de entrenar(1era capa oculta)\",fontsize=18)\n",
    "plt.hist(final_evaluated_gradients[3])\n",
    "\n",
    "plt.tight_layout()\n",
    "plt.show()"
   ]
  },
  {
   "cell_type": "markdown",
   "metadata": {},
   "source": [
    "**d)**"
   ]
  },
  {
   "cell_type": "code",
   "execution_count": null,
   "metadata": {},
   "outputs": [],
   "source": [
    "model = Sequential()\n",
    "model.add(Dense(256, input_dim=X_train.shape[1], kernel_initializer='uniform',activation='relu'))\n",
    "model.add(Dense(256, kernel_initializer='uniform',activation='relu'))\n",
    "model.add(Dense(256, kernel_initializer='uniform',activation='relu'))\n",
    "model.add(Dense(256, kernel_initializer='uniform',activation='relu'))\n",
    "model.add(Dense(256, kernel_initializer='uniform',activation='relu'))\n",
    "model.add(Dense(1, kernel_initializer='uniform',activation='sigmoid'))\n",
    "sgd = SGD(lr=0.01)\n",
    "model.compile(optimizer=sgd,loss='binary_crossentropy',metrics=['accuracy'])\n",
    "loss = keras.losses.mean_squared_error(model.output,y_train)\n",
    "listOfVariableTensors = model.trainable_weights\n",
    "\n",
    "gradients = K.gradients(loss, listOfVariableTensors) #We can now calculate the gradients.\n",
    "sess = K.get_session()\n",
    "evaluated_gradients = sess.run(gradients,feed_dict={model.input:X_train})\n",
    "evaluated_gradients = [gradient/len(y_train) for gradient in evaluated_gradients]\n",
    "\n",
    "hist = model.fit(X_train, y_train, epochs=50, verbose=1, validation_split=0.2)"
   ]
  },
  {
   "cell_type": "code",
   "execution_count": null,
   "metadata": {},
   "outputs": [],
   "source": [
    "listaloss = []\n",
    "listaval = []\n",
    "for i in range(50):\n",
    "    listaloss.append(hist.history['loss'][i])\n",
    "    listaval.append(hist.history['val_loss'][i])\n",
    "\n",
    "plt.plot(range(51)[1:],listaloss,label='loss', linewidth=2)\n",
    "plt.plot(range(51)[1:],listaval,label='val_loss', linewidth=2)\n",
    "\n",
    "plt.legend(['loss', 'val_loss'])\n",
    "plt.ylabel('MSE')\n",
    "plt.xlabel('epochs')\n",
    "plt.grid(1)\n",
    "plt.show()"
   ]
  },
  {
   "cell_type": "code",
   "execution_count": null,
   "metadata": {},
   "outputs": [],
   "source": [
    "plt.figure(1, figsize=(12,10))\n",
    "plt.suptitle(\"Gradientes\", fontsize=23, y=1.07)\n",
    "\n",
    "plt.subplot(421)\n",
    "plt.title(\"Antes de entrenar(ultima capa oculta)\",fontsize=18)\n",
    "plt.hist(evaluated_gradients[9])\n",
    "\n",
    "plt.subplot(422)\n",
    "plt.title(\"Despues de entrenar(ultima capa oculta)\",fontsize=18)\n",
    "plt.hist(final_evaluated_gradients[9])\n",
    "\n",
    "plt.subplot(423)\n",
    "plt.title(\"Antes de entrenar(3ra capa oculta)\",fontsize=18)\n",
    "plt.hist(evaluated_gradients[7])\n",
    "\n",
    "plt.subplot(424)\n",
    "plt.title(\"Despues de entrenar(3ra capa oculta)\",fontsize=18)\n",
    "plt.hist(final_evaluated_gradients[7])\n",
    "\n",
    "plt.subplot(425)\n",
    "plt.title(\"Antes de entrenar(2da capa oculta)\",fontsize=18)\n",
    "plt.hist(evaluated_gradients[5])\n",
    "\n",
    "plt.subplot(426)\n",
    "plt.title(\"Despues de entrenar(2da capa oculta)\",fontsize=18)\n",
    "plt.hist(final_evaluated_gradients[5])\n",
    "\n",
    "plt.subplot(427)\n",
    "plt.title(\"Antes de entrenar(1era capa oculta)\",fontsize=18)\n",
    "plt.hist(evaluated_gradients[3])\n",
    "\n",
    "plt.subplot(428)\n",
    "plt.title(\"Despues de entrenar(1era capa oculta)\",fontsize=18)\n",
    "plt.hist(final_evaluated_gradients[3])\n",
    "\n",
    "plt.tight_layout()\n",
    "plt.show()"
   ]
  },
  {
   "cell_type": "markdown",
   "metadata": {},
   "source": [
    "**e)**"
   ]
  },
  {
   "cell_type": "code",
   "execution_count": null,
   "metadata": {},
   "outputs": [],
   "source": [
    "model = Sequential()\n",
    "model.add(Dense(256, input_dim=X_train.shape[1], kernel_initializer='he_uniform',activation='softplus'))\n",
    "model.add(Dense(256, kernel_initializer='he_uniform',activation='softplus'))\n",
    "model.add(Dense(256, kernel_initializer='he_uniform',activation='softplus'))\n",
    "model.add(Dense(256, kernel_initializer='he_uniform',activation='softplus'))\n",
    "model.add(Dense(256, kernel_initializer='he_uniform',activation='softplus'))\n",
    "model.add(Dense(1, kernel_initializer='he_uniform',activation='sigmoid'))\n",
    "sgd = SGD(lr=0.01)\n",
    "model.compile(optimizer=sgd,loss='binary_crossentropy', metrics=['accuracy'])\n",
    "loss = keras.losses.mean_squared_error(model.output,y_train)\n",
    "listOfVariableTensors = model.trainable_weights\n",
    "\n",
    "gradients = K.gradients(loss, listOfVariableTensors) #We can now calculate the gradients.\n",
    "sess = K.get_session()\n",
    "evaluated_gradients = sess.run(gradients,feed_dict={model.input:X_train})\n",
    "evaluated_gradients = [gradient/len(y_train) for gradient in evaluated_gradients]\n",
    "\n",
    "hist = model.fit(X_train, y_train, epochs=50, verbose=1, validation_split=0.2)"
   ]
  },
  {
   "cell_type": "code",
   "execution_count": null,
   "metadata": {},
   "outputs": [],
   "source": [
    "listaloss = []\n",
    "listaval = []\n",
    "for i in range(50):\n",
    "    listaloss.append(hist.history['loss'][i])\n",
    "    listaval.append(hist.history['val_loss'][i])\n",
    "\n",
    "plt.plot(range(51)[1:],listaloss,label='loss', linewidth=2)\n",
    "plt.plot(range(51)[1:],listaval,label='val_loss', linewidth=2)\n",
    "\n",
    "plt.legend(['loss', 'val_loss'])\n",
    "plt.ylabel('MSE')\n",
    "plt.xlabel('epochs')\n",
    "plt.grid(1)\n",
    "plt.show()"
   ]
  },
  {
   "cell_type": "code",
   "execution_count": null,
   "metadata": {},
   "outputs": [],
   "source": [
    "plt.figure(1, figsize=(12,10))\n",
    "plt.suptitle(\"Gradientes\", fontsize=23, y=1.07)\n",
    "\n",
    "plt.subplot(421)\n",
    "plt.title(\"Antes de entrenar(ultima capa oculta)\",fontsize=18)\n",
    "plt.hist(evaluated_gradients[9])\n",
    "\n",
    "plt.subplot(422)\n",
    "plt.title(\"Despues de entrenar(ultima capa oculta)\",fontsize=18)\n",
    "plt.hist(final_evaluated_gradients[9])\n",
    "\n",
    "plt.subplot(423)\n",
    "plt.title(\"Antes de entrenar(3ra capa oculta)\",fontsize=18)\n",
    "plt.hist(evaluated_gradients[7])\n",
    "\n",
    "plt.subplot(424)\n",
    "plt.title(\"Despues de entrenar(3ra capa oculta)\",fontsize=18)\n",
    "plt.hist(final_evaluated_gradients[7])\n",
    "\n",
    "plt.subplot(425)\n",
    "plt.title(\"Antes de entrenar(2da capa oculta)\",fontsize=18)\n",
    "plt.hist(evaluated_gradients[5])\n",
    "\n",
    "plt.subplot(426)\n",
    "plt.title(\"Despues de entrenar(2da capa oculta)\",fontsize=18)\n",
    "plt.hist(final_evaluated_gradients[5])\n",
    "\n",
    "plt.subplot(427)\n",
    "plt.title(\"Antes de entrenar(1era capa oculta)\",fontsize=18)\n",
    "plt.hist(evaluated_gradients[3])\n",
    "\n",
    "plt.subplot(428)\n",
    "plt.title(\"Despues de entrenar(1era capa oculta)\",fontsize=18)\n",
    "plt.hist(final_evaluated_gradients[3])\n",
    "\n",
    "plt.tight_layout()\n",
    "plt.show()"
   ]
  },
  {
   "cell_type": "markdown",
   "metadata": {},
   "source": [
    "**f)**"
   ]
  },
  {
   "cell_type": "code",
   "execution_count": null,
   "metadata": {},
   "outputs": [],
   "source": [
    "model = Sequential()\n",
    "model.add(Dense(256, input_dim=X_train.shape[1], kernel_initializer='he_uniform',activation='softplus'))\n",
    "model.add(Dense(256, kernel_initializer='he_uniform',activation='softplus'))\n",
    "model.add(Dense(256, kernel_initializer='he_uniform',activation='softplus'))\n",
    "model.add(Dense(256, kernel_initializer='he_uniform',activation='softplus'))\n",
    "model.add(Dense(256, kernel_initializer='he_uniform',activation='softplus'))\n",
    "model.add(Dense(1, kernel_initializer='he_uniform',activation='sigmoid'))\n",
    "sgd = SGD(lr=0.01)\n",
    "model.compile(optimizer=sgd,loss='binary_crossentropy', metrics=['accuracy'])\n",
    "loss = keras.losses.mean_squared_error(model.output,y_train)\n",
    "listOfVariableTensors = model.trainable_weights\n",
    "\n",
    "gradients = K.gradients(loss, listOfVariableTensors) #We can now calculate the gradients.\n",
    "sess = K.get_session()\n",
    "evaluated_gradients = sess.run(gradients,feed_dict={model.input:X_train})\n",
    "evaluated_gradients = [gradient/len(y_train) for gradient in evaluated_gradients]\n",
    "\n",
    "hist = model.fit(X_train, y_train, epochs=50, verbose=1, validation_split=0.2)"
   ]
  },
  {
   "cell_type": "code",
   "execution_count": null,
   "metadata": {},
   "outputs": [],
   "source": [
    "from keras.layers import LeakyReLU, PReLU, ELU, ThresholdedReLU\n",
    "LeakyReLU(alpha=0.3)\n",
    "PReLU(alpha_initializer='zeros')\n",
    "ELU(alpha=1.0)\n",
    "ThresholdedReLU(theta=1.0)\n",
    "...\n",
    "model.add(Dense(nh, activation='linear'))\n",
    "model.add(LeakyReLU(alpha=0.3))"
   ]
  },
  {
   "cell_type": "markdown",
   "metadata": {},
   "source": [
    "**g)**"
   ]
  },
  {
   "cell_type": "code",
   "execution_count": null,
   "metadata": {},
   "outputs": [],
   "source": []
  },
  {
   "cell_type": "code",
   "execution_count": null,
   "metadata": {},
   "outputs": [],
   "source": []
  },
  {
   "cell_type": "code",
   "execution_count": null,
   "metadata": {},
   "outputs": [],
   "source": []
  },
  {
   "cell_type": "code",
   "execution_count": null,
   "metadata": {},
   "outputs": [],
   "source": []
  }
 ],
 "metadata": {
  "kernelspec": {
   "display_name": "Python 3",
   "language": "python",
   "name": "python3"
  },
  "language_info": {
   "codemirror_mode": {
    "name": "ipython",
    "version": 3
   },
   "file_extension": ".py",
   "mimetype": "text/x-python",
   "name": "python",
   "nbconvert_exporter": "python",
   "pygments_lexer": "ipython3",
   "version": "3.6.7"
  }
 },
 "nbformat": 4,
 "nbformat_minor": 2
}
